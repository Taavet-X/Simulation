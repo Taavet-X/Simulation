{
  "cells": [
    {
      "cell_type": "markdown",
      "metadata": {
        "id": "view-in-github",
        "colab_type": "text"
      },
      "source": [
        "<a href=\"https://colab.research.google.com/github/Taavet-X/Simulation/blob/main/Simulaci%C3%B3n_computacional_Taller_I.ipynb\" target=\"_parent\"><img src=\"https://colab.research.google.com/assets/colab-badge.svg\" alt=\"Open In Colab\"/></a>"
      ]
    },
    {
      "cell_type": "markdown",
      "source": [
        "**Validacion de Periodo**"
      ],
      "metadata": {
        "id": "otBM8kT0HjE4"
      }
    },
    {
      "cell_type": "code",
      "source": [
        "dic = {}\n",
        "\n",
        "def numeroRepetido(numero):\n",
        "    if numero in dic:\n",
        "        return True\n",
        "    else:\n",
        "        dic[numero] = True"
      ],
      "metadata": {
        "id": "DfI7ETN7HfYi"
      },
      "execution_count": 8,
      "outputs": []
    },
    {
      "cell_type": "markdown",
      "metadata": {
        "id": "scT0yq99DHSF"
      },
      "source": [
        "**Generador**"
      ]
    },
    {
      "cell_type": "code",
      "execution_count": 9,
      "metadata": {
        "colab": {
          "base_uri": "https://localhost:8080/"
        },
        "id": "JnU0WV3VDC8v",
        "outputId": "caf1de0f-7724-48d1-927b-4a07667cd9f0"
      },
      "outputs": [
        {
          "output_type": "stream",
          "name": "stdout",
          "text": [
            "0.020202020202020204\n",
            "0.7777777777777778\n",
            "0.5252525252525253\n",
            "0.2727272727272727\n"
          ]
        }
      ],
      "source": [
        "semilla = 27\n",
        "a = 17\n",
        "c = 43\n",
        "m = 100\n",
        "\n",
        "for x in range(1000):\n",
        "    semilla = semilla \n",
        "    a = a\n",
        "    c = c\n",
        "    m = m\n",
        "    subtotal = semilla * a + c\n",
        "    pseudoaleatorio = subtotal % m\n",
        "    random = pseudoaleatorio / (m-1)\n",
        "   \n",
        "    semilla = pseudoaleatorio\n",
        "    if pseudoaleatorio == 0 or numeroRepetido(random):\n",
        "        break\n",
        "    else:\n",
        "       print(random)"
      ]
    },
    {
      "cell_type": "markdown",
      "metadata": {
        "id": "K7Jol2NkC2j_"
      },
      "source": [
        "**Chi Cuadrado**"
      ]
    },
    {
      "cell_type": "code",
      "execution_count": null,
      "metadata": {
        "colab": {
          "base_uri": "https://localhost:8080/"
        },
        "id": "_PRuAo-zuKBA",
        "outputId": "87d7255e-b77b-41b8-c3f0-d5a7498cc35f"
      },
      "outputs": [
        {
          "name": "stdout",
          "output_type": "stream",
          "text": [
            "[43.56, 0.25, 28.09, 3.24, 0.25, 27.04, 0.25, 19.36, 4.0, 7.84]\n",
            "133.88\n"
          ]
        }
      ],
      "source": [
        "values = [166,95,47,118,95,48,95,144,120,72]\n",
        "\n",
        "results = []\n",
        "total = 0\n",
        "for value in values:\n",
        "  res = (100-value)**2/100\n",
        "  results.append(res)\n",
        "  total += res\n",
        "print(results)\n",
        "print(total)"
      ]
    }
  ],
  "metadata": {
    "colab": {
      "provenance": [],
      "include_colab_link": true
    },
    "kernelspec": {
      "display_name": "Python 3",
      "name": "python3"
    },
    "language_info": {
      "name": "python"
    }
  },
  "nbformat": 4,
  "nbformat_minor": 0
}